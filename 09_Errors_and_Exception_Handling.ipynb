{
 "cells": [
  {
   "cell_type": "code",
   "execution_count": 14,
   "metadata": {},
   "outputs": [
    {
     "name": "stdout",
     "output_type": "stream",
     "text": [
      "Add went well!\n",
      "20\n"
     ]
    }
   ],
   "source": [
    "try:\n",
    "    # Want to attempt this code\n",
    "    # May have an error\n",
    "    my_result = 10 + 10\n",
    "    \n",
    "# except block runs if there's any error in try block. This is catch all except, meaning, catches all exception types\n",
    "except:\n",
    "    print(\"Looks like you aren't adding correctly!\")\n",
    "\n",
    "# else block runs if there is no error in the try block\n",
    "else:\n",
    "    print(\"Add went well!\")\n",
    "    print(result)"
   ]
  },
  {
   "cell_type": "code",
   "execution_count": 12,
   "metadata": {},
   "outputs": [
    {
     "name": "stdout",
     "output_type": "stream",
     "text": [
      "Hey it looks like you aren't adding correctly!\n"
     ]
    }
   ],
   "source": [
    "# Below is copy paste of above cell, except second 10 is now a string, causing error\n",
    "try:\n",
    "    # Want to attempt this code\n",
    "    # May have an error\n",
    "    my_result = 10 + '10'\n",
    "    \n",
    "# except block runs if there's any error in try block\n",
    "except:\n",
    "    print(\"Hey it looks like you aren't adding correctly!\")\n",
    "\n",
    "# else block runs if there is no error in the try block\n",
    "else:\n",
    "    print(\"Add went well!\")\n",
    "    print(result)"
   ]
  },
  {
   "cell_type": "code",
   "execution_count": 19,
   "metadata": {},
   "outputs": [
    {
     "name": "stdout",
     "output_type": "stream",
     "text": [
      "Hey you have an OSError!\n",
      "I ALWAYS RUN!!\n"
     ]
    }
   ],
   "source": [
    "try:\n",
    "    f = open('testfile', 'r')  # We're introducing error here, trying to write to file with open mode as 'r'!\n",
    "    f.write(\"Write a test line\")\n",
    "\n",
    "# except for specific error - TypeError in this case\n",
    "except TypeError:\n",
    "    print(\"There was a TypeError!\")\n",
    "\n",
    "# except for OSError\n",
    "except OSError:\n",
    "    print(\"Hey you have an OSError!\")\n",
    "    \n",
    "# Catch all except\n",
    "except:\n",
    "    print(\"All other exeptions get caught here!\")\n",
    "\n",
    "# finally block always runs, no matter what!\n",
    "finally:\n",
    "    print(\"I ALWAYS RUN!!\")"
   ]
  },
  {
   "cell_type": "code",
   "execution_count": 16,
   "metadata": {},
   "outputs": [
    {
     "name": "stdout",
     "output_type": "stream",
     "text": [
      "I ALWAYS RUN!!\n"
     ]
    }
   ],
   "source": [
    "try:\n",
    "    f = open('testfile', 'w')\n",
    "    f.write(\"Write a test line\")\n",
    "\n",
    "# except for specific error - TypeError in this case\n",
    "except TypeError:\n",
    "    print(\"There was a TypeError!\")\n",
    "\n",
    "# except for OSError\n",
    "except OSError:\n",
    "    print(\"There was an OSError!\")\n",
    "\n",
    "# finally block always runs, no matter what!\n",
    "finally:\n",
    "    print(\"I ALWAYS RUN!!\")"
   ]
  },
  {
   "cell_type": "code",
   "execution_count": 26,
   "metadata": {},
   "outputs": [],
   "source": [
    "# One more example of try/except/finally block of code\n",
    "def ask_for_int():\n",
    "    try:\n",
    "        result = int(input(\"Please enter a number: \"))\n",
    "    except:\n",
    "        print(\"Whoops! That was not a number!\")\n",
    "    finally:\n",
    "        print(\"End of try/except/finally\")"
   ]
  },
  {
   "cell_type": "code",
   "execution_count": 27,
   "metadata": {},
   "outputs": [
    {
     "name": "stdout",
     "output_type": "stream",
     "text": [
      "Please enter a number: 20\n",
      "End of try/except/finally\n"
     ]
    }
   ],
   "source": [
    "ask_for_int()"
   ]
  },
  {
   "cell_type": "code",
   "execution_count": 28,
   "metadata": {},
   "outputs": [
    {
     "name": "stdout",
     "output_type": "stream",
     "text": [
      "Please enter a number: 2R\n",
      "Whoops! That was not a number!\n",
      "End of try/except/finally\n"
     ]
    }
   ],
   "source": [
    "ask_for_int()"
   ]
  },
  {
   "cell_type": "code",
   "execution_count": 31,
   "metadata": {},
   "outputs": [],
   "source": [
    "# Update try/except/else/finally code from above\n",
    "def ask_for_int_modified():\n",
    "    while True:\n",
    "        try:\n",
    "            result = int(input(\"Please enter a number: \"))\n",
    "        except:\n",
    "            print(\"Whoops! That was not a number!\")\n",
    "            continue\n",
    "        else:\n",
    "            print(\"Yes, thank you\")\n",
    "            break\n",
    "        finally:\n",
    "            print(\"End of try/except/finally\")\n",
    "            print(\"I will always run at the end!\")"
   ]
  },
  {
   "cell_type": "code",
   "execution_count": 32,
   "metadata": {},
   "outputs": [
    {
     "name": "stdout",
     "output_type": "stream",
     "text": [
      "Please enter a number: word\n",
      "Whoops! That was not a number!\n",
      "End of try/except/finally\n",
      "I will always run at the end!\n",
      "Please enter a number: 34\n",
      "Yes, thank you\n",
      "End of try/except/finally\n",
      "I will always run at the end!\n"
     ]
    }
   ],
   "source": [
    "ask_for_int_modified()"
   ]
  },
  {
   "cell_type": "code",
   "execution_count": null,
   "metadata": {},
   "outputs": [],
   "source": []
  }
 ],
 "metadata": {
  "kernelspec": {
   "display_name": "Python 3",
   "language": "python",
   "name": "python3"
  },
  "language_info": {
   "codemirror_mode": {
    "name": "ipython",
    "version": 3
   },
   "file_extension": ".py",
   "mimetype": "text/x-python",
   "name": "python",
   "nbconvert_exporter": "python",
   "pygments_lexer": "ipython3",
   "version": "3.8.3"
  }
 },
 "nbformat": 4,
 "nbformat_minor": 4
}
